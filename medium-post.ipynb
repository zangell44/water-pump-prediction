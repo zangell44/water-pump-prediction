{
 "cells": [
  {
   "cell_type": "markdown",
   "metadata": {},
   "source": [
    "The code below will accompany a Medium post."
   ]
  },
  {
   "cell_type": "code",
   "execution_count": 50,
   "metadata": {},
   "outputs": [],
   "source": [
    "# imports\n",
    "import pandas as pd\n",
    "pd.options.display.max_columns = 999\n",
    "import numpy as np\n",
    "import matplotlib.pyplot as plt\n",
    "import seaborn as sns\n",
    "sns.set_style(\"whitegrid\")\n",
    "\n",
    "import plotly\n",
    "import plotly.plotly as py\n",
    "import cufflinks as cf\n",
    "import plotly.graph_objs as go\n",
    "plotly.tools.set_credentials_file(username='zangell', api_key='bs2CJxqOA2hlrJXKyeM9')\n",
    "\n",
    "# load data\n",
    "df_train = pd.read_csv('train_features.csv', index_col=0).join(pd.read_csv('train_labels.csv', index_col=0))"
   ]
  },
  {
   "cell_type": "code",
   "execution_count": 20,
   "metadata": {},
   "outputs": [
    {
     "data": {
      "image/png": "[encoded data removed]",
      "text/plain": [
       "<Figure size 720x432 with 1 Axes>"
      ]
     },
     "metadata": {},
     "output_type": "display_data"
    }
   ],
   "source": [
    "fig, ax = plt.subplots(figsize=(10,6))\n",
    "sns.countplot(df_train['status_group'],\n",
    "              palette=sns.color_palette(\"husl\", 3),\n",
    "              ax=ax)\n",
    "ax.set_title('Distribution of Waterpoint Status', fontsize=18)\n",
    "ax.set_xlabel('Water Pump Status', fontsize=14)\n",
    "ax.set_ylabel('Water Pump Count', fontsize=14);"
   ]
  },
  {
   "cell_type": "code",
   "execution_count": 55,
   "metadata": {},
   "outputs": [
    {
     "data": {
      "text/plain": [
       "32259"
      ]
     },
     "execution_count": 55,
     "metadata": {},
     "output_type": "execute_result"
    }
   ],
   "source": [
    "df_train['status_group'].value_counts()[0]"
   ]
  },
  {
   "cell_type": "code",
   "execution_count": 57,
   "metadata": {},
   "outputs": [
    {
     "name": "stderr",
     "output_type": "stream",
     "text": [
      "/Users/zach/anaconda3/lib/python3.6/site-packages/IPython/core/display.py:689: UserWarning:\n",
      "\n",
      "Consider using IPython.display.IFrame instead\n",
      "\n"
     ]
    },
    {
     "data": {
      "text/html": [
       "<iframe id=\"igraph\" scrolling=\"no\" style=\"border:none;\" seamless=\"seamless\" src=\"https://plot.ly/~zangell/80.embed\" height=\"525px\" width=\"100%\"></iframe>"
      ],
      "text/plain": [
       "<plotly.tools.PlotlyDisplay object>"
      ]
     },
     "execution_count": 57,
     "metadata": {},
     "output_type": "execute_result"
    }
   ],
   "source": [
    "x = ['Functional', 'Non-Functional', 'Functional, In Need of Repair']\n",
    "y = [df_train['status_group'].value_counts()[0], \n",
    "     df_train['status_group'].value_counts()[1], \n",
    "    df_train['status_group'].value_counts()[2]]\n",
    "\n",
    "data = [go.Bar(\n",
    "            x=x,\n",
    "            y=y,\n",
    "            text=y,\n",
    "            textposition = 'auto',\n",
    "            marker=dict(\n",
    "                color='rgb(158,202,225)',\n",
    "                line=dict(\n",
    "                    color='rgb(8,48,107)',\n",
    "                    width=1.5),\n",
    "            ),\n",
    "            opacity=0.6\n",
    "        )]\n",
    "\n",
    "layout = go.Layout(\n",
    "    title='Functional Status Count',\n",
    "    xaxis=dict(\n",
    "        title='Functional Status',\n",
    "        titlefont=dict(\n",
    "            family='Courier New, monospace',\n",
    "            size=18,\n",
    "            color='#7f7f7f'\n",
    "        )\n",
    "    ),\n",
    "    yaxis=dict(\n",
    "        title='Number of Observations',\n",
    "        titlefont=dict(\n",
    "            family='Courier New, monospace',\n",
    "            size=18,\n",
    "            color='#7f7f7f'\n",
    "        )\n",
    "    )\n",
    ")\n",
    "fig = go.Figure(data=data, layout=layout)\n",
    "\n",
    "py.iplot(fig, filename='bar-test')"
   ]
  },
  {
   "cell_type": "markdown",
   "metadata": {},
   "source": [
    "## Fitting a Simple Model Using Funder as a Feature"
   ]
  },
  {
   "cell_type": "code",
   "execution_count": 24,
   "metadata": {},
   "outputs": [],
   "source": [
    "# simple logistic regression using funder variable\n",
    "def map_funder(funder):\n",
    "    \"\"\"\n",
    "    Takes in the name of an entity and categorizes it\n",
    "    \"\"\"\n",
    "    unknown = ['0', 'unknown']  \n",
    "    if funder in unknown:\n",
    "        return 'unknown' \n",
    "    government = ['government ', 'government', 'dwe', 'hesawa', 'rwe', 'central government', 'lga',\n",
    "                 'district council', 'gover', 'gove', 'gov', 'district water department',\n",
    "                 'sengerema water department', 'distri', 'centr', 'distric water department',\n",
    "                 'tasaf']  \n",
    "    if funder in government:\n",
    "        return 'government'  \n",
    "    community = ['community', 'commu', 'villagers', 'twesa']   \n",
    "    if funder in community:\n",
    "        return 'community'    \n",
    "    religious = ['church of disciples', 'kkkt', 'world vision', 'rc church', 'rc', 'tcrs',\n",
    "                'dmdd']    \n",
    "    if funder in religious:\n",
    "        return 'religious'    \n",
    "    international = ['norad', 'fini water', 'danida', 'danid', 'ces', 'kuwait',\n",
    "                    'finw']    \n",
    "    if funder in international:\n",
    "        return 'international'   \n",
    "    private = ['private', 'privat', 'kiliwater', 'wedeco']    \n",
    "    if funder in private:\n",
    "        return 'private'    \n",
    "    aid = ['roman', 'amref', 'world bank', 'unicef', 'oxfam']    \n",
    "    if funder in aid:\n",
    "        return 'aid'\n",
    "    return 'other'"
   ]
  },
  {
   "cell_type": "code",
   "execution_count": 48,
   "metadata": {},
   "outputs": [
    {
     "name": "stdout",
     "output_type": "stream",
     "text": [
      "-----------------------------------\n",
      "Feature                 Coefficient\n",
      "-----------------------------------\n",
      "aid                       -0.170000\n",
      "other                     -0.000000\n",
      "private                    0.640000\n",
      "international             -0.400000\n",
      "religious                  0.190000\n",
      "government                -0.460000\n",
      "unknown                    0.060000\n",
      "community                  0.360000\n",
      "-1                         0.000000\n"
     ]
    }
   ],
   "source": [
    "from sklearn.linear_model import LogisticRegression\n",
    "import category_encoders as ce\n",
    "from sklearn.pipeline import make_pipeline\n",
    "\n",
    "# create new variable for funding group\n",
    "X = ce.OneHotEncoder(use_cat_names=True).fit_transform(df_train['funder'].str.lower().apply(map_funder).values)\n",
    "# create binary target variable\n",
    "y = df_train['status_group'] == 'functional'\n",
    "\n",
    "# fit logistic regresssion and report coefficients\n",
    "lr = LogisticRegression(solver='lbfgs').fit(X, y)\n",
    "# neat print formatting\n",
    "print ('-' * 35)\n",
    "print('{:<20s}{:>15s}'.format('Feature','Coefficient'))\n",
    "print ('-' * 35)\n",
    "for feat, coef in (zip(X.columns, lr.coef_[0])):\n",
    "    print('{:<20s}{:>15f}'.format(feat[2:],round(coef,2)))"
   ]
  },
  {
   "cell_type": "code",
   "execution_count": 45,
   "metadata": {},
   "outputs": [
    {
     "name": "stdout",
     "output_type": "stream",
     "text": [
      "--------------------------------------------------------------------------------\n",
      "Feature                                               Coefficient\n",
      "--------------------------------------------------------------------------------\n",
      "aid                                                     -0.170000\n",
      "other                                                   -0.000000\n",
      "private                                                  0.640000\n",
      "international                                           -0.400000\n",
      "religious                                                0.190000\n",
      "government                                              -0.460000\n",
      "unknown                                                  0.060000\n",
      "community                                                0.360000\n",
      "-1                                                       0.000000\n"
     ]
    }
   ],
   "source": []
  },
  {
   "cell_type": "code",
   "execution_count": null,
   "metadata": {},
   "outputs": [],
   "source": []
  },
  {
   "cell_type": "markdown",
   "metadata": {},
   "source": [
    "## Visualizing Waterpoint Access Issues"
   ]
  },
  {
   "cell_type": "code",
   "execution_count": 73,
   "metadata": {},
   "outputs": [
    {
     "name": "stderr",
     "output_type": "stream",
     "text": [
      "/Users/zach/anaconda3/lib/python3.6/site-packages/IPython/core/display.py:689: UserWarning:\n",
      "\n",
      "Consider using IPython.display.IFrame instead\n",
      "\n"
     ]
    },
    {
     "data": {
      "text/html": [
       "<iframe id=\"igraph\" scrolling=\"no\" style=\"border:none;\" seamless=\"seamless\" src=\"https://plot.ly/~zangell/84.embed\" height=\"525px\" width=\"100%\"></iframe>"
      ],
      "text/plain": [
       "<plotly.tools.PlotlyDisplay object>"
      ]
     },
     "execution_count": 73,
     "metadata": {},
     "output_type": "execute_result"
    }
   ],
   "source": [
    "mapbox_access_token = 'pk.eyJ1IjoiemFuZ2VsbDQ0IiwiYSI6ImNqcndjeWg0MjBiZmI0YW10YWZmbnFjbncifQ.Fy89S3B5DvrYWkbWJ8FyjA'\n",
    "\n",
    "df_plot = df_train[df_train['longitude']>25].sample(5000)\n",
    "\n",
    "data = [\n",
    "    # functional pumps\n",
    "    go.Scattermapbox(\n",
    "        lat=df_plot['latitude'][df_train['status_group'] == 'functional'],\n",
    "        lon=df_plot['longitude'][df_train['status_group'] == 'functional'],\n",
    "        mode='markers',\n",
    "        marker=dict(\n",
    "            size=3,\n",
    "            color='rgb(0, 255, 0)',\n",
    "            opacity=0.7\n",
    "        ),\n",
    "        text=['Functional'],\n",
    "        hoverinfo='text',\n",
    "        name='Functional'\n",
    "    ),\n",
    "    go.Scattermapbox(\n",
    "        lat=df_plot['latitude'][df_train['status_group'] == 'non functional'],\n",
    "        lon=df_plot['longitude'][df_train['status_group'] == 'non functional'],\n",
    "        mode='markers',\n",
    "        marker=dict(\n",
    "            size=3,\n",
    "            color='rgb(255, 0, 0)',\n",
    "            opacity=0.7\n",
    "        ),\n",
    "        text=['Non-Functional'],\n",
    "        hoverinfo='text',\n",
    "        name='Non-Functional'\n",
    "    ),\n",
    "    go.Scattermapbox(\n",
    "        lat=df_plot['latitude'][df_train['status_group'] == 'functional needs repair'],\n",
    "        lon=df_plot['longitude'][df_train['status_group'] == 'functional needs repair'],\n",
    "        mode='markers',\n",
    "        marker=dict(\n",
    "            size=2,\n",
    "            color='rgb(0, 0, 255)',\n",
    "            opacity=0.7\n",
    "        ),\n",
    "        text=['Functional, Needs Repair'],\n",
    "        hoverinfo='text',\n",
    "        name='Functional, Needs Repair'\n",
    "    )\n",
    "]\n",
    "\n",
    "layout = go.Layout(\n",
    "    autosize=False,\n",
    "    hovermode='closest',\n",
    "    mapbox=dict(\n",
    "        accesstoken=mapbox_access_token,\n",
    "        bearing=0,\n",
    "        center=dict(\n",
    "            lat=-7,\n",
    "            lon=39\n",
    "        ),\n",
    "        pitch=0,\n",
    "        zoom=4\n",
    "    ),\n",
    ")\n",
    "\n",
    "fig = dict(data=data, layout=layout)\n",
    "\n",
    "py.iplot(fig, filename='Tanzania Mapbox')"
   ]
  },
  {
   "cell_type": "code",
   "execution_count": 68,
   "metadata": {},
   "outputs": [
    {
     "data": {
      "text/plain": [
       "functional                 32259\n",
       "non functional             22824\n",
       "functional needs repair     4317\n",
       "Name: status_group, dtype: int64"
      ]
     },
     "execution_count": 68,
     "metadata": {},
     "output_type": "execute_result"
    }
   ],
   "source": [
    "df_train['status_group'].value_counts()"
   ]
  },
  {
   "cell_type": "code",
   "execution_count": null,
   "metadata": {},
   "outputs": [],
   "source": []
  }
 ],
 "metadata": {
  "kernelspec": {
   "display_name": "Python 3",
   "language": "python",
   "name": "python3"
  },
  "language_info": {
   "codemirror_mode": {
    "name": "ipython",
    "version": 3
   },
   "file_extension": ".py",
   "mimetype": "text/x-python",
   "name": "python",
   "nbconvert_exporter": "python",
   "pygments_lexer": "ipython3",
   "version": "3.6.8"
  }
 },
 "nbformat": 4,
 "nbformat_minor": 2
}
